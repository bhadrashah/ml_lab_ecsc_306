{
 "cells": [
  {
   "cell_type": "code",
   "execution_count": 1,
   "metadata": {
    "collapsed": true
   },
   "outputs": [],
   "source": [
    "import tensorflow as tf"
   ]
  },
  {
   "cell_type": "code",
   "execution_count": 51,
   "metadata": {
    "collapsed": true
   },
   "outputs": [],
   "source": [
    "x = tf.constant([1.0,2.0,3.0,4.0], shape=[1, 4], name='x')\n",
    "y = tf.constant([5.0,6.0,7.0,8.0], shape=[1, 4], name='y')"
   ]
  },
  {
   "cell_type": "code",
   "execution_count": 52,
   "metadata": {},
   "outputs": [],
   "source": [
    " with tf.name_scope(\"Scope_variance\"):\n",
    "          mean_of_x=tf.reduce_mean(x)\n",
    "          mean_of_y =tf.reduce_mean(y)"
   ]
  },
  {
   "cell_type": "code",
   "execution_count": 53,
   "metadata": {},
   "outputs": [
    {
     "name": "stdout",
     "output_type": "stream",
     "text": [
      "[[ 2.25  0.25  0.25  0.25]]\n",
      "5.0\n"
     ]
    }
   ],
   "source": [
    " with tf.name_scope(\"Scope_variance\"):\n",
    "        \n",
    "       \n",
    "       ## mean_sqx=tf.multiply( mean_of_x, mean_of_x)\n",
    "        ##mean_sqy=tf.multiply( mean_of_y, mean_of_y)\n",
    "        subtract1=tf.subtract(x,mean_of_x)\n",
    "        sess=tf.Session()\n",
    "        print( sess.run(multiply1))\n",
    "        multiply1=tf.multiply(subtract1,subtract1)\n",
    "        variance=tf.reduce_sum(multiply1)\n",
    "        \n",
    "        sess=tf.Session()\n",
    "print( sess.run(variance))"
   ]
  },
  {
   "cell_type": "code",
   "execution_count": 55,
   "metadata": {},
   "outputs": [
    {
     "name": "stdout",
     "output_type": "stream",
     "text": [
      "5.0\n"
     ]
    }
   ],
   "source": [
    " with tf.name_scope(\"Scope_covariance\"):\n",
    "         with tf.name_scope(\"Scope_multication\"):\n",
    "                 subtract2=tf.subtract(y,mean_of_y)\n",
    "                 multiply2=tf.multiply(subtract1,subtract2)\n",
    "                 covariance=tf.reduce_sum(multiply2)\n",
    "                 sess=tf.Session()\n",
    "                 print(sess.run(covariance))\n",
    "                \n",
    "                \n",
    "        "
   ]
  },
  {
   "cell_type": "code",
   "execution_count": 58,
   "metadata": {},
   "outputs": [
    {
     "name": "stdout",
     "output_type": "stream",
     "text": [
      "1.0\n"
     ]
    }
   ],
   "source": [
    "with tf.name_scope(\"Scope_value_c\"):\n",
    "    c=tf.divide(covariance,variance)\n",
    "    sess=tf.Session()\n",
    "    print(sess.run(c))"
   ]
  },
  {
   "cell_type": "code",
   "execution_count": 60,
   "metadata": {},
   "outputs": [
    {
     "name": "stdout",
     "output_type": "stream",
     "text": [
      "4.0\n"
     ]
    }
   ],
   "source": [
    "with tf.name_scope(\"Scope_value_m\"):\n",
    "    with tf.name_scope(\"Scope_multiply\"):\n",
    "        multiply3=tf.multiply(c,mean_of_x)\n",
    "        with tf.name_scope(\"Scope_subtract\"):\n",
    "                m=tf.subtract(mean_of_y,multiply3)\n",
    "                sess=tf.Session()\n",
    "                print(sess.run(m))\n",
    "    "
   ]
  },
  {
   "cell_type": "code",
   "execution_count": 61,
   "metadata": {
    "collapsed": true
   },
   "outputs": [],
   "source": [
    " writer = tf.summary.FileWriter(\"/tmp/tboard/assignment2\", sess.graph)"
   ]
  },
  {
   "cell_type": "code",
   "execution_count": null,
   "metadata": {
    "collapsed": true
   },
   "outputs": [],
   "source": []
  }
 ],
 "metadata": {
  "kernelspec": {
   "display_name": "Python 3",
   "language": "python",
   "name": "python3"
  },
  "language_info": {
   "codemirror_mode": {
    "name": "ipython",
    "version": 3
   },
   "file_extension": ".py",
   "mimetype": "text/x-python",
   "name": "python",
   "nbconvert_exporter": "python",
   "pygments_lexer": "ipython3",
   "version": "3.6.1"
  }
 },
 "nbformat": 4,
 "nbformat_minor": 2
}
